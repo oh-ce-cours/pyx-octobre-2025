{
 "cells": [
  {
   "cell_type": "code",
   "execution_count": null,
   "id": "2876d717-f5b8-42dc-b295-ac9aac4d95d2",
   "metadata": {},
   "outputs": [],
   "source": []
  }
 ],
 "metadata": {
  "kernelspec": {
   "display_name": "",
   "name": ""
  },
  "language_info": {
   "name": ""
  }
 },
 "nbformat": 4,
 "nbformat_minor": 5
}
