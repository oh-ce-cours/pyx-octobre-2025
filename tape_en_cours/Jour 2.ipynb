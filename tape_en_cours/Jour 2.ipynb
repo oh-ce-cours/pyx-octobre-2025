{
 "cells": [
  {
   "cell_type": "markdown",
   "id": "288129b4-4205-46fe-a652-89b4b9f67f8e",
   "metadata": {},
   "source": [
    "# Rappel jour 1 \n",
    "\n",
    "## Matin \n",
    "\n",
    "* environnement virtuels et cycle de vie\n",
    "* installation de packets avec pip\n",
    "\n",
    "## Après midi \n",
    "\n",
    "* installation de paquets sur nexus / en local / sans internet\n",
    "* fizz buzz\n",
    "* les linters (mypy / pylint / ruff) et formatter de code (ruff)\n",
    "* boucles et conditions pour manipulation de systeme de fichiers "
   ]
  },
  {
   "cell_type": "code",
   "execution_count": 9,
   "id": "4c3011cb-5135-4772-b677-138a5a2d7743",
   "metadata": {},
   "outputs": [
    {
     "name": "stdout",
     "output_type": "stream",
     "text": [
      "en dehors de la fonction\n"
     ]
    }
   ],
   "source": [
    "def mon_nom_de_fonction(nb:int):\n",
    "    for i in range(nb):\n",
    "        print(\"coucou\")\n",
    "print(\"en dehors de la fonction\")"
   ]
  },
  {
   "cell_type": "code",
   "execution_count": 10,
   "id": "33c9617f-2541-4eaf-8240-b5bab9afb2cb",
   "metadata": {},
   "outputs": [
    {
     "ename": "TypeError",
     "evalue": "mon_nom_de_fonction() missing 1 required positional argument: 'nb'",
     "output_type": "error",
     "traceback": [
      "\u001b[31m---------------------------------------------------------------------------\u001b[39m",
      "\u001b[31mTypeError\u001b[39m                                 Traceback (most recent call last)",
      "\u001b[36mCell\u001b[39m\u001b[36m \u001b[39m\u001b[32mIn[10]\u001b[39m\u001b[32m, line 1\u001b[39m\n\u001b[32m----> \u001b[39m\u001b[32m1\u001b[39m \u001b[43mmon_nom_de_fonction\u001b[49m\u001b[43m(\u001b[49m\u001b[43m)\u001b[49m\n",
      "\u001b[31mTypeError\u001b[39m: mon_nom_de_fonction() missing 1 required positional argument: 'nb'"
     ]
    }
   ],
   "source": [
    "mon_nom_de_fonction()"
   ]
  },
  {
   "cell_type": "code",
   "execution_count": null,
   "id": "18d0a590-bf6c-49b8-a96b-afa61f402d95",
   "metadata": {},
   "outputs": [],
   "source": []
  }
 ],
 "metadata": {
  "kernelspec": {
   "display_name": "Python 3 (ipykernel)",
   "language": "python",
   "name": "python3"
  },
  "language_info": {
   "codemirror_mode": {
    "name": "ipython",
    "version": 3
   },
   "file_extension": ".py",
   "mimetype": "text/x-python",
   "name": "python",
   "nbconvert_exporter": "python",
   "pygments_lexer": "ipython3",
   "version": "3.12.2"
  }
 },
 "nbformat": 4,
 "nbformat_minor": 5
}
