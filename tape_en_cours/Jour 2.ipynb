{
 "cells": [
  {
   "cell_type": "markdown",
   "id": "288129b4-4205-46fe-a652-89b4b9f67f8e",
   "metadata": {},
   "source": [
    "# Rappel jour 1 \n",
    "\n",
    "## Matin \n",
    "\n",
    "* environnement virtuels et cycle de vie\n",
    "* installation de packets avec pip\n",
    "\n",
    "## Après midi \n",
    "\n",
    "* installation de paquets sur nexus / en local / sans internet\n",
    "* fizz buzz\n",
    "* boucles et conditions pour manipulation de systeme de fichiers "
   ]
  },
  {
   "cell_type": "code",
   "execution_count": null,
   "id": "4c3011cb-5135-4772-b677-138a5a2d7743",
   "metadata": {},
   "outputs": [],
   "source": [
    "def mon_nom_de_fonction():\n",
    "    print(\"coucou\")\n",
    "print(\"en dehors de la fonction\")"
   ]
  },
  {
   "cell_type": "code",
   "execution_count": null,
   "id": "33c9617f-2541-4eaf-8240-b5bab9afb2cb",
   "metadata": {},
   "outputs": [],
   "source": []
  }
 ],
 "metadata": {
  "kernelspec": {
   "display_name": "Python 3 (ipykernel)",
   "language": "python",
   "name": "python3"
  },
  "language_info": {
   "codemirror_mode": {
    "name": "ipython",
    "version": 3
   },
   "file_extension": ".py",
   "mimetype": "text/x-python",
   "name": "python",
   "nbconvert_exporter": "python",
   "pygments_lexer": "ipython3",
   "version": "3.12.2"
  }
 },
 "nbformat": 4,
 "nbformat_minor": 5
}
