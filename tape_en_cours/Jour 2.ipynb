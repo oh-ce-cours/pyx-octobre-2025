{
 "cells": [
  {
   "cell_type": "markdown",
   "id": "288129b4-4205-46fe-a652-89b4b9f67f8e",
   "metadata": {},
   "source": [
    "# Rappel jour 1 \n",
    "\n",
    "## Matin \n",
    "\n",
    "* environnement virtuels et cycle de vie\n",
    "* installation de packets avec pip\n",
    "\n",
    "## Après midi \n",
    "\n",
    "* installation de paquets sur nexus / en local / sans internet\n",
    "* fizz buzz\n",
    "* les linters (mypy / pylint / ruff) et formatter de code (ruff)\n",
    "* boucles et conditions pour manipulation de systeme de fichiers "
   ]
  },
  {
   "cell_type": "code",
   "execution_count": 62,
   "id": "4c3011cb-5135-4772-b677-138a5a2d7743",
   "metadata": {},
   "outputs": [
    {
     "name": "stdout",
     "output_type": "stream",
     "text": [
      "en dehors de la fonction\n"
     ]
    }
   ],
   "source": [
    "def mon_nom_de_fonction(nb:int, a_print: str) -> tuple[bool, int]:\n",
    "    for i in range(nb):\n",
    "        print(a_print)\n",
    "    return True, 23\n",
    "\n",
    "print(\"en dehors de la fonction\")"
   ]
  },
  {
   "cell_type": "code",
   "execution_count": 63,
   "id": "33c9617f-2541-4eaf-8240-b5bab9afb2cb",
   "metadata": {},
   "outputs": [
    {
     "name": "stdout",
     "output_type": "stream",
     "text": [
      "riri\n",
      "riri\n",
      "riri\n"
     ]
    },
    {
     "data": {
      "text/plain": [
       "(True, 23)"
      ]
     },
     "execution_count": 63,
     "metadata": {},
     "output_type": "execute_result"
    }
   ],
   "source": [
    "mon_nom_de_fonction(3, \"riri\")"
   ]
  },
  {
   "cell_type": "code",
   "execution_count": 83,
   "id": "18d0a590-bf6c-49b8-a96b-afa61f402d95",
   "metadata": {},
   "outputs": [
    {
     "name": "stdout",
     "output_type": "stream",
     "text": [
      "otot\n",
      "otot\n",
      "(True, 23)\n",
      "23\n",
      "otot\n",
      "otot\n",
      "23\n"
     ]
    }
   ],
   "source": [
    "result = mon_nom_de_fonction(2, \"otot\")\n",
    "print(result)\n",
    "\n",
    "if result[0]:\n",
    "    print(result[1])\n",
    "\n",
    "is_success, res = mon_nom_de_fonction(2, \"otot\")  # tuple unpacking \n",
    "if is_success:\n",
    "    print(res)"
   ]
  },
  {
   "cell_type": "code",
   "execution_count": 55,
   "id": "0722d048-085d-4ab7-94ab-860b3cb5f377",
   "metadata": {},
   "outputs": [
    {
     "data": {
      "text/plain": [
       "tuple"
      ]
     },
     "execution_count": 55,
     "metadata": {},
     "output_type": "execute_result"
    }
   ],
   "source": [
    "type(a)"
   ]
  },
  {
   "cell_type": "code",
   "execution_count": 56,
   "id": "ae4d826f-4345-446e-b128-5b8c2602f870",
   "metadata": {},
   "outputs": [
    {
     "name": "stdout",
     "output_type": "stream",
     "text": [
      "[1, 2, 'toto', None]\n"
     ]
    }
   ],
   "source": [
    "b = [1, 2, \"toto\", None]\n",
    "print(b)"
   ]
  },
  {
   "cell_type": "code",
   "execution_count": 57,
   "id": "aaff5e32-bdeb-448a-a450-f168e82754fd",
   "metadata": {},
   "outputs": [
    {
     "name": "stdout",
     "output_type": "stream",
     "text": [
      "(1, 2, 'toto', None)\n"
     ]
    }
   ],
   "source": [
    "b = (1, 2, \"toto\", None)\n",
    "print(b)"
   ]
  },
  {
   "cell_type": "code",
   "execution_count": 85,
   "id": "797110ff-1141-4aaa-9720-713e295dbb24",
   "metadata": {},
   "outputs": [],
   "source": [
    "premier, deuxieme, *autres, dernier = range(10)"
   ]
  },
  {
   "cell_type": "code",
   "execution_count": 78,
   "id": "3a66150a-62aa-4a76-b079-66812a995c0f",
   "metadata": {},
   "outputs": [
    {
     "data": {
      "text/plain": [
       "0"
      ]
     },
     "execution_count": 78,
     "metadata": {},
     "output_type": "execute_result"
    }
   ],
   "source": [
    "premier"
   ]
  },
  {
   "cell_type": "code",
   "execution_count": 79,
   "id": "f9b1a907-88d9-4170-86ac-6f1d200dd034",
   "metadata": {},
   "outputs": [
    {
     "data": {
      "text/plain": [
       "1"
      ]
     },
     "execution_count": 79,
     "metadata": {},
     "output_type": "execute_result"
    }
   ],
   "source": [
    "deuxieme"
   ]
  },
  {
   "cell_type": "code",
   "execution_count": null,
   "id": "d8204b40-3ab9-4f4c-a272-9e8ea7056a6f",
   "metadata": {},
   "outputs": [],
   "source": []
  },
  {
   "cell_type": "code",
   "execution_count": 81,
   "id": "ec83dc85-b8fe-433c-b513-7d276032837e",
   "metadata": {},
   "outputs": [
    {
     "data": {
      "text/plain": [
       "8"
      ]
     },
     "execution_count": 81,
     "metadata": {},
     "output_type": "execute_result"
    }
   ],
   "source": [
    "avant_dernier"
   ]
  },
  {
   "cell_type": "code",
   "execution_count": 82,
   "id": "4f77eb36-bd39-4cda-a4a9-bf8382c61a99",
   "metadata": {},
   "outputs": [
    {
     "data": {
      "text/plain": [
       "[2, 3, 4, 5, 6, 7, 8]"
      ]
     },
     "execution_count": 82,
     "metadata": {},
     "output_type": "execute_result"
    }
   ],
   "source": [
    "autres"
   ]
  },
  {
   "cell_type": "code",
   "execution_count": 86,
   "id": "d682a170-0dd0-4e35-b1f7-4d0104c87f9b",
   "metadata": {},
   "outputs": [
    {
     "name": "stdout",
     "output_type": "stream",
     "text": [
      "s\n",
      "['a', 'l', 'u', 't', ' ', 'l', 'e', 's', ' ', 'c', 'o', 'p', 'a', 'i', 'n', 's']\n"
     ]
    }
   ],
   "source": [
    "premiere_lettre, *autres = \"salut les copains\"\n",
    "print(premiere_lettre)\n",
    "print(autres)"
   ]
  },
  {
   "cell_type": "markdown",
   "id": "e7d3fe59-9637-4a58-a516-753ed4b31df3",
   "metadata": {},
   "source": [
    "# Rappel matinée \n",
    "\n",
    "* structures de donées\n",
    "    * listes\n",
    "    * tuples\n",
    "* tuple unpacking\n",
    "* fonctions\n",
    "* imports (`import ...`, `from ... import truc`, `import truc as machin`)\n",
    "* context managers\n",
    "    * mot clé : `with`\n",
    "    * gèrent un contexte\n",
    "    * permettent de gérer une entrée et une sortie d'un contexte (par exemple un fichier, il sera fermé en sortant du bloc, même si une exception est levée)\n",
    "* "
   ]
  },
  {
   "cell_type": "code",
   "execution_count": 108,
   "id": "84c5e579-fb38-4838-ba66-2ef6d71718c8",
   "metadata": {},
   "outputs": [
    {
     "name": "stdout",
     "output_type": "stream",
     "text": [
      "a : 10 - b : a - c : 5\n",
      "a : 11 - b : b - c : 4\n",
      "a : 12 - b : c - c : 3\n",
      "a : 13 - b : d - c : 2\n",
      "----------------------\n",
      "a : 10 - b : a - c : 5\n",
      "a : 11 - b : b - c : 4\n",
      "a : 12 - b : c - c : 3\n",
      "a : 13 - b : d - c : 2\n"
     ]
    }
   ],
   "source": [
    "for a, b, c in zip(range(10, 16), \"abcdef\", (5, 4, 3, 2)):\n",
    "    print(\"a :\", a, \"- b :\", b, \"- c :\", c)\n",
    "\n",
    "print(\"-\"*22)\n",
    "for v in zip(range(10, 16), \"abcdef\", (5, 4, 3, 2)):\n",
    "    a = v[0]\n",
    "    b = v[1]\n",
    "    c = v[2]\n",
    "\n",
    "    print(\"a :\", a, \"- b :\", b, \"- c :\", c)"
   ]
  },
  {
   "cell_type": "code",
   "execution_count": 101,
   "id": "36a20abf-171f-44ee-971d-2356d17a1a56",
   "metadata": {},
   "outputs": [
    {
     "ename": "SyntaxError",
     "evalue": "invalid syntax (581152036.py, line 1)",
     "output_type": "error",
     "traceback": [
      "  \u001b[36mCell\u001b[39m\u001b[36m \u001b[39m\u001b[32mIn[101]\u001b[39m\u001b[32m, line 1\u001b[39m\n\u001b[31m    \u001b[39m\u001b[31mà faire : différence pointeur et références\u001b[39m\n      ^\n\u001b[31mSyntaxError\u001b[39m\u001b[31m:\u001b[39m invalid syntax\n"
     ]
    }
   ],
   "source": [
    "à faire : différence pointeur et références "
   ]
  },
  {
   "cell_type": "code",
   "execution_count": 109,
   "id": "a5d0a072-fa16-4142-9673-70b7be05b77a",
   "metadata": {},
   "outputs": [
    {
     "ename": "SyntaxError",
     "evalue": "invalid syntax (1158989180.py, line 1)",
     "output_type": "error",
     "traceback": [
      "  \u001b[36mCell\u001b[39m\u001b[36m \u001b[39m\u001b[32mIn[109]\u001b[39m\u001b[32m, line 1\u001b[39m\n\u001b[31m    \u001b[39m\u001b[31met valeurs par défaut dans les fonctions\u001b[39m\n       ^\n\u001b[31mSyntaxError\u001b[39m\u001b[31m:\u001b[39m invalid syntax\n"
     ]
    }
   ],
   "source": [
    "et valeurs par défaut dans les fonctions "
   ]
  },
  {
   "cell_type": "code",
   "execution_count": 113,
   "id": "61449d8b-1c3f-4b68-a5bc-6ecfd0b4627c",
   "metadata": {},
   "outputs": [],
   "source": [
    "def append(element, l=[]):\n",
    "    l.append(element)\n",
    "    return l"
   ]
  },
  {
   "cell_type": "code",
   "execution_count": 114,
   "id": "c0a4e4e2-b108-4fc0-9e91-f29bec628875",
   "metadata": {},
   "outputs": [],
   "source": [
    "a = append(1)"
   ]
  },
  {
   "cell_type": "code",
   "execution_count": 115,
   "id": "322168fd-5571-4939-b106-a016959c55fb",
   "metadata": {},
   "outputs": [
    {
     "name": "stdout",
     "output_type": "stream",
     "text": [
      "[1]\n"
     ]
    }
   ],
   "source": [
    "print(a)"
   ]
  },
  {
   "cell_type": "code",
   "execution_count": 118,
   "id": "7d6635cc-fff1-4d40-bba1-9861eee32af0",
   "metadata": {},
   "outputs": [
    {
     "name": "stdout",
     "output_type": "stream",
     "text": [
      "[1, 1, 2, 3]\n"
     ]
    }
   ],
   "source": [
    "a = append(3)\n",
    "print(a)"
   ]
  },
  {
   "cell_type": "code",
   "execution_count": 121,
   "id": "bdf9a405-fece-4db1-a47a-fe083fb5f72f",
   "metadata": {},
   "outputs": [
    {
     "data": {
      "text/plain": [
       "[1, 1, 2, 3, 3]"
      ]
     },
     "execution_count": 121,
     "metadata": {},
     "output_type": "execute_result"
    }
   ],
   "source": [
    "append(3)"
   ]
  },
  {
   "cell_type": "code",
   "execution_count": 125,
   "id": "b7769588-8768-4233-9f9d-0c282363c40b",
   "metadata": {},
   "outputs": [],
   "source": [
    "def ma_liste():\n",
    "    print(\"on appele 'ma_liste'\")\n",
    "    return []"
   ]
  },
  {
   "cell_type": "code",
   "execution_count": 126,
   "id": "f63e1386-94a1-40bd-8244-0921c9dbdd6e",
   "metadata": {},
   "outputs": [
    {
     "name": "stdout",
     "output_type": "stream",
     "text": [
      "on appele 'ma_liste'\n",
      "apres la definition d'append\n"
     ]
    }
   ],
   "source": [
    "def append(element, l=ma_liste()):\n",
    "    l.append(element)\n",
    "    return l\n",
    "\n",
    "print(\"apres la definition d'append\")"
   ]
  },
  {
   "cell_type": "code",
   "execution_count": 127,
   "id": "ab3675e0-dd8a-4872-b0c1-4f140ac0d451",
   "metadata": {},
   "outputs": [
    {
     "data": {
      "text/plain": [
       "[1]"
      ]
     },
     "execution_count": 127,
     "metadata": {},
     "output_type": "execute_result"
    }
   ],
   "source": [
    "append(1)"
   ]
  },
  {
   "cell_type": "code",
   "execution_count": 128,
   "id": "a081e197-7a87-48bd-92c5-d4c1c10bb401",
   "metadata": {},
   "outputs": [],
   "source": [
    "def append_correct(element, l=None):\n",
    "    if l is None:\n",
    "        l = []\n",
    "    l.append(element)\n",
    "    return l"
   ]
  },
  {
   "cell_type": "code",
   "execution_count": 129,
   "id": "3c39275c-884e-47f1-8332-059a5ff97127",
   "metadata": {},
   "outputs": [
    {
     "data": {
      "text/plain": [
       "[1]"
      ]
     },
     "execution_count": 129,
     "metadata": {},
     "output_type": "execute_result"
    }
   ],
   "source": [
    "append_correct(1)"
   ]
  },
  {
   "cell_type": "code",
   "execution_count": 130,
   "id": "bfb63e5a-3efe-457d-9c6a-2780a06fa848",
   "metadata": {},
   "outputs": [
    {
     "data": {
      "text/plain": [
       "[2]"
      ]
     },
     "execution_count": 130,
     "metadata": {},
     "output_type": "execute_result"
    }
   ],
   "source": [
    "append_correct(2)"
   ]
  },
  {
   "cell_type": "code",
   "execution_count": 135,
   "id": "f5f8ad2f-830e-4feb-8a56-3f8899df35d7",
   "metadata": {},
   "outputs": [
    {
     "data": {
      "text/plain": [
       "[3]"
      ]
     },
     "execution_count": 135,
     "metadata": {},
     "output_type": "execute_result"
    }
   ],
   "source": [
    "append_correct(3)"
   ]
  },
  {
   "cell_type": "markdown",
   "id": "e59864b8-d315-4f08-8933-6e1f91c5bca2",
   "metadata": {},
   "source": [
    "## \"\"\"\"Pointeurs\"\"\"\"\""
   ]
  },
  {
   "cell_type": "code",
   "execution_count": 132,
   "id": "b59e998c-ad0b-4f9f-b069-402a2249a9c4",
   "metadata": {},
   "outputs": [
    {
     "name": "stdout",
     "output_type": "stream",
     "text": [
      "[1] [1]\n"
     ]
    }
   ],
   "source": [
    "a = [1]\n",
    "b = a \n",
    "\n",
    "print(a, b)"
   ]
  },
  {
   "cell_type": "code",
   "execution_count": 133,
   "id": "c4cc7a60-72e4-48c0-abbd-0d734b8f1b04",
   "metadata": {},
   "outputs": [],
   "source": [
    "a.append(2)"
   ]
  },
  {
   "cell_type": "code",
   "execution_count": 134,
   "id": "a645f8fe-fbe5-4676-9e07-bef75ff1f829",
   "metadata": {},
   "outputs": [
    {
     "name": "stdout",
     "output_type": "stream",
     "text": [
      "[1, 2] [1, 2]\n"
     ]
    }
   ],
   "source": [
    "print(a, b)"
   ]
  },
  {
   "cell_type": "code",
   "execution_count": 138,
   "id": "68a8999a-0ef3-48ce-bf1a-992ab3e3c237",
   "metadata": {},
   "outputs": [
    {
     "name": "stdout",
     "output_type": "stream",
     "text": [
      "4417764544 4417764544 True True\n"
     ]
    }
   ],
   "source": [
    "print(id(a), id(b), id(a) == id(b), a is b)"
   ]
  },
  {
   "cell_type": "code",
   "execution_count": 139,
   "id": "47267c61-3885-499f-a5bf-9007a6cb3f92",
   "metadata": {},
   "outputs": [
    {
     "name": "stdout",
     "output_type": "stream",
     "text": [
      "True\n"
     ]
    }
   ],
   "source": [
    "a = [1]\n",
    "b = a\n",
    "\n",
    "print(a is b)"
   ]
  },
  {
   "cell_type": "code",
   "execution_count": 143,
   "id": "2eafc984-9408-48b3-9ec9-94afa0ae013b",
   "metadata": {},
   "outputs": [
    {
     "name": "stdout",
     "output_type": "stream",
     "text": [
      "[1] [1]\n",
      "False\n",
      "True\n"
     ]
    }
   ],
   "source": [
    "import copy \n",
    "a = [1]\n",
    "b = copy.copy(a)\n",
    "\n",
    "print(a, b)\n",
    "print(a is b)\n",
    "print(a == b)"
   ]
  },
  {
   "cell_type": "code",
   "execution_count": 144,
   "id": "8d4c89e6-7775-40f9-8164-728e017d5d8f",
   "metadata": {},
   "outputs": [
    {
     "name": "stdout",
     "output_type": "stream",
     "text": [
      "[3] [1]\n"
     ]
    }
   ],
   "source": [
    "a[0] = 3\n",
    "print(a, b)"
   ]
  },
  {
   "cell_type": "code",
   "execution_count": 150,
   "id": "46859656-7d99-483a-a05b-cf52900bdaa6",
   "metadata": {},
   "outputs": [
    {
     "name": "stdout",
     "output_type": "stream",
     "text": [
      "[[0], [1]] [[0], [1]]\n",
      "a is b = False\n",
      "a == b = True\n",
      "True\n",
      "-----\n",
      "[[0], [3]] [[0], [3]]\n"
     ]
    }
   ],
   "source": [
    "import copy \n",
    "a = [[0], [1]]\n",
    "b = copy.copy(a)\n",
    "\n",
    "print(a, b)\n",
    "print(f\"{a is b = }\")\n",
    "print(f\"{a == b = }\")\n",
    "print(f\"{a[0] is b[0] = }\")\n",
    "print()\n",
    "print(\"-----\")\n",
    "a[1][0] = 3\n",
    "print(a, b)"
   ]
  },
  {
   "cell_type": "code",
   "execution_count": null,
   "id": "d48370e9-b03e-447f-b5b0-f7e113dc9ab4",
   "metadata": {},
   "outputs": [],
   "source": []
  }
 ],
 "metadata": {
  "kernelspec": {
   "display_name": "Python 3 (ipykernel)",
   "language": "python",
   "name": "python3"
  },
  "language_info": {
   "codemirror_mode": {
    "name": "ipython",
    "version": 3
   },
   "file_extension": ".py",
   "mimetype": "text/x-python",
   "name": "python",
   "nbconvert_exporter": "python",
   "pygments_lexer": "ipython3",
   "version": "3.12.2"
  }
 },
 "nbformat": 4,
 "nbformat_minor": 5
}
