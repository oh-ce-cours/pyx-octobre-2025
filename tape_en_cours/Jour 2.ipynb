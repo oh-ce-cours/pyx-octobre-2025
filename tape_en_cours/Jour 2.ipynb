{
 "cells": [
  {
   "cell_type": "markdown",
   "id": "288129b4-4205-46fe-a652-89b4b9f67f8e",
   "metadata": {},
   "source": [
    "# Rappel jour 1 \n",
    "\n",
    "## Matin \n",
    "\n",
    "* environnement virtuels et cycle de vie\n",
    "* installation de packets avec pip\n",
    "\n",
    "## Après midi \n",
    "\n",
    "* installation de paquets sur nexus / en local / sans internet\n",
    "* fizz buzz\n",
    "* les linters (mypy / pylint / ruff) et formatter de code (ruff)\n",
    "* boucles et conditions pour manipulation de systeme de fichiers "
   ]
  },
  {
   "cell_type": "code",
   "execution_count": 62,
   "id": "4c3011cb-5135-4772-b677-138a5a2d7743",
   "metadata": {},
   "outputs": [
    {
     "name": "stdout",
     "output_type": "stream",
     "text": [
      "en dehors de la fonction\n"
     ]
    }
   ],
   "source": [
    "def mon_nom_de_fonction(nb:int, a_print: str) -> tuple[bool, int]:\n",
    "    for i in range(nb):\n",
    "        print(a_print)\n",
    "    return True, 23\n",
    "\n",
    "print(\"en dehors de la fonction\")"
   ]
  },
  {
   "cell_type": "code",
   "execution_count": 63,
   "id": "33c9617f-2541-4eaf-8240-b5bab9afb2cb",
   "metadata": {},
   "outputs": [
    {
     "name": "stdout",
     "output_type": "stream",
     "text": [
      "riri\n",
      "riri\n",
      "riri\n"
     ]
    },
    {
     "data": {
      "text/plain": [
       "(True, 23)"
      ]
     },
     "execution_count": 63,
     "metadata": {},
     "output_type": "execute_result"
    }
   ],
   "source": [
    "mon_nom_de_fonction(3, \"riri\")"
   ]
  },
  {
   "cell_type": "code",
   "execution_count": 83,
   "id": "18d0a590-bf6c-49b8-a96b-afa61f402d95",
   "metadata": {},
   "outputs": [
    {
     "name": "stdout",
     "output_type": "stream",
     "text": [
      "otot\n",
      "otot\n",
      "(True, 23)\n",
      "23\n",
      "otot\n",
      "otot\n",
      "23\n"
     ]
    }
   ],
   "source": [
    "result = mon_nom_de_fonction(2, \"otot\")\n",
    "print(result)\n",
    "\n",
    "if result[0]:\n",
    "    print(result[1])\n",
    "\n",
    "is_success, res = mon_nom_de_fonction(2, \"otot\")  # tuple unpacking \n",
    "if is_success:\n",
    "    print(res)"
   ]
  },
  {
   "cell_type": "code",
   "execution_count": 55,
   "id": "0722d048-085d-4ab7-94ab-860b3cb5f377",
   "metadata": {},
   "outputs": [
    {
     "data": {
      "text/plain": [
       "tuple"
      ]
     },
     "execution_count": 55,
     "metadata": {},
     "output_type": "execute_result"
    }
   ],
   "source": [
    "type(a)"
   ]
  },
  {
   "cell_type": "code",
   "execution_count": 56,
   "id": "ae4d826f-4345-446e-b128-5b8c2602f870",
   "metadata": {},
   "outputs": [
    {
     "name": "stdout",
     "output_type": "stream",
     "text": [
      "[1, 2, 'toto', None]\n"
     ]
    }
   ],
   "source": [
    "b = [1, 2, \"toto\", None]\n",
    "print(b)"
   ]
  },
  {
   "cell_type": "code",
   "execution_count": 57,
   "id": "aaff5e32-bdeb-448a-a450-f168e82754fd",
   "metadata": {},
   "outputs": [
    {
     "name": "stdout",
     "output_type": "stream",
     "text": [
      "(1, 2, 'toto', None)\n"
     ]
    }
   ],
   "source": [
    "b = (1, 2, \"toto\", None)\n",
    "print(b)"
   ]
  },
  {
   "cell_type": "code",
   "execution_count": 85,
   "id": "797110ff-1141-4aaa-9720-713e295dbb24",
   "metadata": {},
   "outputs": [],
   "source": [
    "premier, deuxieme, *autres, dernier = range(10)"
   ]
  },
  {
   "cell_type": "code",
   "execution_count": 78,
   "id": "3a66150a-62aa-4a76-b079-66812a995c0f",
   "metadata": {},
   "outputs": [
    {
     "data": {
      "text/plain": [
       "0"
      ]
     },
     "execution_count": 78,
     "metadata": {},
     "output_type": "execute_result"
    }
   ],
   "source": [
    "premier"
   ]
  },
  {
   "cell_type": "code",
   "execution_count": 79,
   "id": "f9b1a907-88d9-4170-86ac-6f1d200dd034",
   "metadata": {},
   "outputs": [
    {
     "data": {
      "text/plain": [
       "1"
      ]
     },
     "execution_count": 79,
     "metadata": {},
     "output_type": "execute_result"
    }
   ],
   "source": [
    "deuxieme"
   ]
  },
  {
   "cell_type": "code",
   "execution_count": null,
   "id": "d8204b40-3ab9-4f4c-a272-9e8ea7056a6f",
   "metadata": {},
   "outputs": [],
   "source": []
  },
  {
   "cell_type": "code",
   "execution_count": 81,
   "id": "ec83dc85-b8fe-433c-b513-7d276032837e",
   "metadata": {},
   "outputs": [
    {
     "data": {
      "text/plain": [
       "8"
      ]
     },
     "execution_count": 81,
     "metadata": {},
     "output_type": "execute_result"
    }
   ],
   "source": [
    "avant_dernier"
   ]
  },
  {
   "cell_type": "code",
   "execution_count": 82,
   "id": "4f77eb36-bd39-4cda-a4a9-bf8382c61a99",
   "metadata": {},
   "outputs": [
    {
     "data": {
      "text/plain": [
       "[2, 3, 4, 5, 6, 7, 8]"
      ]
     },
     "execution_count": 82,
     "metadata": {},
     "output_type": "execute_result"
    }
   ],
   "source": [
    "autres"
   ]
  },
  {
   "cell_type": "code",
   "execution_count": null,
   "id": "d682a170-0dd0-4e35-b1f7-4d0104c87f9b",
   "metadata": {},
   "outputs": [],
   "source": [
    "premiere_lettre, "
   ]
  }
 ],
 "metadata": {
  "kernelspec": {
   "display_name": "Python 3 (ipykernel)",
   "language": "python",
   "name": "python3"
  },
  "language_info": {
   "codemirror_mode": {
    "name": "ipython",
    "version": 3
   },
   "file_extension": ".py",
   "mimetype": "text/x-python",
   "name": "python",
   "nbconvert_exporter": "python",
   "pygments_lexer": "ipython3",
   "version": "3.12.2"
  }
 },
 "nbformat": 4,
 "nbformat_minor": 5
}
