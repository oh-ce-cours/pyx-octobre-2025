{
 "cells": [
  {
   "cell_type": "markdown",
   "id": "288129b4-4205-46fe-a652-89b4b9f67f8e",
   "metadata": {},
   "source": [
    "# Rappel jour 1 \n",
    "\n",
    "## Matin \n",
    "\n",
    "* environnement virtuels et cycle de vie\n",
    "* installation de packets avec pip\n",
    "\n",
    "## Après midi \n",
    "\n",
    "* installation de paquets sur nexus / en local / sans internet\n",
    "* fizz buzz\n",
    "* les linters (mypy / pylint / ruff) et formatter de code (ruff)\n",
    "* boucles et conditions pour manipulation de systeme de fichiers "
   ]
  },
  {
   "cell_type": "code",
   "execution_count": 25,
   "id": "4c3011cb-5135-4772-b677-138a5a2d7743",
   "metadata": {},
   "outputs": [
    {
     "name": "stdout",
     "output_type": "stream",
     "text": [
      "en dehors de la fonction\n"
     ]
    }
   ],
   "source": [
    "def mon_nom_de_fonction(nb:int, a_print: str):\n",
    "    for i in range(nb):\n",
    "        print(a_print)\n",
    "    return \"yop\", 1, 2, 3\n",
    "\n",
    "print(\"en dehors de la fonction\")"
   ]
  },
  {
   "cell_type": "code",
   "execution_count": 26,
   "id": "33c9617f-2541-4eaf-8240-b5bab9afb2cb",
   "metadata": {},
   "outputs": [
    {
     "name": "stdout",
     "output_type": "stream",
     "text": [
      "riri\n",
      "riri\n",
      "riri\n"
     ]
    },
    {
     "data": {
      "text/plain": [
       "('yop', 1, 2, 3)"
      ]
     },
     "execution_count": 26,
     "metadata": {},
     "output_type": "execute_result"
    }
   ],
   "source": [
    "mon_nom_de_fonction(3, \"riri\")"
   ]
  },
  {
   "cell_type": "code",
   "execution_count": 27,
   "id": "18d0a590-bf6c-49b8-a96b-afa61f402d95",
   "metadata": {},
   "outputs": [
    {
     "name": "stdout",
     "output_type": "stream",
     "text": [
      "otot\n",
      "otot\n",
      "('yop', 1, 2, 3)\n"
     ]
    }
   ],
   "source": [
    "a = mon_nom_de_fonction(2, \"otot\")\n",
    "print(a)"
   ]
  },
  {
   "cell_type": "code",
   "execution_count": 28,
   "id": "0722d048-085d-4ab7-94ab-860b3cb5f377",
   "metadata": {},
   "outputs": [
    {
     "data": {
      "text/plain": [
       "tuple"
      ]
     },
     "execution_count": 28,
     "metadata": {},
     "output_type": "execute_result"
    }
   ],
   "source": [
    "type(a)"
   ]
  },
  {
   "cell_type": "code",
   "execution_count": null,
   "id": "ae4d826f-4345-446e-b128-5b8c2602f870",
   "metadata": {},
   "outputs": [],
   "source": []
  }
 ],
 "metadata": {
  "kernelspec": {
   "display_name": "Python 3 (ipykernel)",
   "language": "python",
   "name": "python3"
  },
  "language_info": {
   "codemirror_mode": {
    "name": "ipython",
    "version": 3
   },
   "file_extension": ".py",
   "mimetype": "text/x-python",
   "name": "python",
   "nbconvert_exporter": "python",
   "pygments_lexer": "ipython3",
   "version": "3.12.2"
  }
 },
 "nbformat": 4,
 "nbformat_minor": 5
}
