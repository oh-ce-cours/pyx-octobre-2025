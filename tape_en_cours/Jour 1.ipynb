{
 "cells": [
  {
   "cell_type": "markdown",
   "id": "0732d2cf-d0e8-4039-9765-0bd31fecefd6",
   "metadata": {},
   "source": [
    "# Matin \n",
    "\n",
    "* présentation du groupe\n",
    "* définition des attentes en terme d'outils\n",
    "* installation de python\n",
    "* création de `virtualenv`\n",
    "  * création : `python -m venv NOM_DU_VENV`\n",
    "  * activation :\n",
    "    * unix : `source NOM_DU_VENV/bin/activate`\n",
    "    * windows : `NOM_DU_VENV\\Scripts\\activate`\n",
    "  * desactivation : `deactivate` ou on ferme le shell \n",
    "  * suppression : on supprime le dossier\n",
    "* pip pour installer des paquets\n",
    "  * installer un paquet : `pip install numpy`\n",
    "  * lister les paquets actuellement installés avec leur version : `pip freeze`, souvent on crée un fichier de requirements : `pip freeze > requirements.txt\n",
    "  * installer plusieurs paquets présents dans un fichier de requirement : `pip install -r requirements.txt`. On utilise cela pour reconstruire un projet sur une nouvelle machine (on ne partage SURTOUT PAS le venv entre des ordinateurs)\n",
    "  * on peut télécharger et installer des paquets \"localement\"\n",
    "    * télécharger le packet au format compilé (wheel) pour une plateforme spécifique : `pip download --platform=manylinux1_x86_64 --only-binary=:all: lxml`\n",
    "    * installer : `pip install -r requirements_offline.txt --no-index --find-links file:///Users/matthieufalce/Desktop/pyx-octobre-2025/tape_en_cours/pip_archive` "
   ]
  },
  {
   "cell_type": "markdown",
   "id": "ecb6847b-ba19-4f54-b9b0-899b7865283d",
   "metadata": {},
   "source": [
    "# Les types"
   ]
  },
  {
   "cell_type": "code",
   "execution_count": 4,
   "id": "4bd12e0a-e0ce-481e-8534-d5af0ba4efea",
   "metadata": {},
   "outputs": [],
   "source": [
    "mon_int = 3"
   ]
  },
  {
   "cell_type": "code",
   "execution_count": 5,
   "id": "bc92447f-554e-426d-83b4-8db8e7ff0101",
   "metadata": {},
   "outputs": [
    {
     "data": {
      "text/plain": [
       "int"
      ]
     },
     "execution_count": 5,
     "metadata": {},
     "output_type": "execute_result"
    }
   ],
   "source": [
    "type(mon_int)"
   ]
  },
  {
   "cell_type": "code",
   "execution_count": 6,
   "id": "0cafbeda-757a-4688-bc0b-33e86f582c07",
   "metadata": {},
   "outputs": [],
   "source": [
    "ma_chaine = \"aezrtfhgj\""
   ]
  },
  {
   "cell_type": "code",
   "execution_count": 7,
   "id": "1952dc15-30dc-4aef-856e-693ff2d36030",
   "metadata": {},
   "outputs": [
    {
     "data": {
      "text/plain": [
       "str"
      ]
     },
     "execution_count": 7,
     "metadata": {},
     "output_type": "execute_result"
    }
   ],
   "source": [
    "type(ma_chaine)"
   ]
  },
  {
   "cell_type": "code",
   "execution_count": 14,
   "id": "ef554e9d-6b51-4e43-a1ab-f78e07294fd1",
   "metadata": {},
   "outputs": [
    {
     "data": {
      "text/plain": [
       "9"
      ]
     },
     "execution_count": 14,
     "metadata": {},
     "output_type": "execute_result"
    }
   ],
   "source": [
    "len(ma_chaine)"
   ]
  },
  {
   "cell_type": "code",
   "execution_count": 15,
   "id": "4e241c32-1195-4888-b170-61ca699b589f",
   "metadata": {},
   "outputs": [
    {
     "ename": "TypeError",
     "evalue": "object of type 'int' has no len()",
     "output_type": "error",
     "traceback": [
      "\u001b[31m---------------------------------------------------------------------------\u001b[39m",
      "\u001b[31mTypeError\u001b[39m                                 Traceback (most recent call last)",
      "\u001b[36mCell\u001b[39m\u001b[36m \u001b[39m\u001b[32mIn[15]\u001b[39m\u001b[32m, line 1\u001b[39m\n\u001b[32m----> \u001b[39m\u001b[32m1\u001b[39m \u001b[38;5;28;43mlen\u001b[39;49m\u001b[43m(\u001b[49m\u001b[43mmon_int\u001b[49m\u001b[43m)\u001b[49m;\n",
      "\u001b[31mTypeError\u001b[39m: object of type 'int' has no len()"
     ]
    }
   ],
   "source": [
    "len(mon_int);"
   ]
  },
  {
   "cell_type": "code",
   "execution_count": null,
   "id": "557dc9f8-06d4-4737-b6d5-ff37530fc71a",
   "metadata": {},
   "outputs": [],
   "source": []
  },
  {
   "cell_type": "code",
   "execution_count": 16,
   "id": "f350b436-f468-4953-accf-65b36a608054",
   "metadata": {},
   "outputs": [],
   "source": [
    "ma_chaine = 345"
   ]
  },
  {
   "cell_type": "code",
   "execution_count": 17,
   "id": "b37dc96e-f686-4333-b02d-39530ca207b0",
   "metadata": {},
   "outputs": [
    {
     "name": "stdout",
     "output_type": "stream",
     "text": [
      "345\n"
     ]
    }
   ],
   "source": [
    "print(ma_chaine)"
   ]
  },
  {
   "cell_type": "code",
   "execution_count": null,
   "id": "0ad9495b-b08b-44b7-9403-90e5c58c1c48",
   "metadata": {},
   "outputs": [],
   "source": []
  }
 ],
 "metadata": {
  "kernelspec": {
   "display_name": "Python 3 (ipykernel)",
   "language": "python",
   "name": "python3"
  },
  "language_info": {
   "codemirror_mode": {
    "name": "ipython",
    "version": 3
   },
   "file_extension": ".py",
   "mimetype": "text/x-python",
   "name": "python",
   "nbconvert_exporter": "python",
   "pygments_lexer": "ipython3",
   "version": "3.12.2"
  }
 },
 "nbformat": 4,
 "nbformat_minor": 5
}
