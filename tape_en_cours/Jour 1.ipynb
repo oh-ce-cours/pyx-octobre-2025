{
 "cells": [
  {
   "cell_type": "markdown",
   "id": "0732d2cf-d0e8-4039-9765-0bd31fecefd6",
   "metadata": {},
   "source": [
    "# Matin \n",
    "\n",
    "* présentation du groupe\n",
    "* définition des attentes en terme d'outils\n",
    "* installation de python\n",
    "* création de `virtualenv`\n",
    "  * création : `python -m venv NOM_DU_VENV`\n",
    "  * activation :\n",
    "    * unix : `source NOM_DU_VENV/bin/activate`\n",
    "    * windows : `NOM_DU_VENV\\Scripts\\activate`\n",
    "  * desactivation : `deactivate` ou on ferme le shell \n",
    "  * suppression : on supprime le dossier\n",
    "* pip pour installer des paquets\n",
    "  * installer un paquet : `pip install numpy`\n",
    "  * lister les paquets actuellement installés avec leur version : `pip freeze`, souvent on crée un fichier de requirements : `pip freeze > requirements.txt\n",
    "  * installer plusieurs paquets présents dans un fichier de requirement : `pip install -r requirements.txt`. On utilise cela pour reconstruire un projet sur une nouvelle machine (on ne partage SURTOUT PAS le venv entre des ordinateurs)"
   ]
  },
  {
   "cell_type": "code",
   "execution_count": null,
   "id": "bb9696c7-b244-4555-8627-9497e5cf4133",
   "metadata": {},
   "outputs": [],
   "source": []
  }
 ],
 "metadata": {
  "kernelspec": {
   "display_name": "Python 3 (ipykernel)",
   "language": "python",
   "name": "python3"
  },
  "language_info": {
   "codemirror_mode": {
    "name": "ipython",
    "version": 3
   },
   "file_extension": ".py",
   "mimetype": "text/x-python",
   "name": "python",
   "nbconvert_exporter": "python",
   "pygments_lexer": "ipython3",
   "version": "3.12.2"
  }
 },
 "nbformat": 4,
 "nbformat_minor": 5
}
