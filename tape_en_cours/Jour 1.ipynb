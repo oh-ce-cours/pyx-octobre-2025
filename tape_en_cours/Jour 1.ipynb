{
 "cells": [
  {
   "cell_type": "markdown",
   "id": "0732d2cf-d0e8-4039-9765-0bd31fecefd6",
   "metadata": {},
   "source": [
    "# Matin \n",
    "\n",
    "* présentation du groupe\n",
    "* définition des attentes en terme d'outils\n",
    "* installation de python\n",
    "* création de `virtualenv`\n",
    "  * création : `python -m venv NOM_DU_VENV`\n",
    "  * activation :\n",
    "    * unix : `source NOM_DU_VENV/bin/activate`\n",
    "    * windows : `NOM_DU_VENV\\Scripts\\activate`\n",
    "  * desactivation : `deactivate` ou on ferme le shell \n",
    "  * suppression : on supprime le dossier\n",
    "* pip pour installer des paquets\n",
    "  * installer un paquet : `pip install numpy`\n",
    "  * lister les paquets actuellement installés avec leur version : `pip freeze`, souvent on crée un fichier de requirements : `pip freeze > requirements.txt\n",
    "  * installer plusieurs paquets présents dans un fichier de requirement : `pip install -r requirements.txt`. On utilise cela pour reconstruire un projet sur une nouvelle machine (on ne partage SURTOUT PAS le venv entre des ordinateurs)\n",
    "  * on peut télécharger et installer des paquets \"localement\"\n",
    "    * télécharger le packet au format compilé (wheel) pour une plateforme spécifique : `pip download --platform=manylinux1_x86_64 --only-binary=:all: lxml`\n",
    "    * installer : `pip install -r requirements_offline.txt --no-index --find-links file:///Users/matthieufalce/Desktop/pyx-octobre-2025/tape_en_cours/pip_archive` "
   ]
  },
  {
   "cell_type": "markdown",
   "id": "ecb6847b-ba19-4f54-b9b0-899b7865283d",
   "metadata": {},
   "source": [
    "# Les types"
   ]
  },
  {
   "cell_type": "code",
   "execution_count": 4,
   "id": "4bd12e0a-e0ce-481e-8534-d5af0ba4efea",
   "metadata": {},
   "outputs": [],
   "source": [
    "mon_int = 3"
   ]
  },
  {
   "cell_type": "code",
   "execution_count": 5,
   "id": "bc92447f-554e-426d-83b4-8db8e7ff0101",
   "metadata": {},
   "outputs": [
    {
     "data": {
      "text/plain": [
       "int"
      ]
     },
     "execution_count": 5,
     "metadata": {},
     "output_type": "execute_result"
    }
   ],
   "source": [
    "type(mon_int)"
   ]
  },
  {
   "cell_type": "code",
   "execution_count": 6,
   "id": "0cafbeda-757a-4688-bc0b-33e86f582c07",
   "metadata": {},
   "outputs": [],
   "source": [
    "ma_chaine = \"aezrtfhgj\""
   ]
  },
  {
   "cell_type": "code",
   "execution_count": 7,
   "id": "1952dc15-30dc-4aef-856e-693ff2d36030",
   "metadata": {},
   "outputs": [
    {
     "data": {
      "text/plain": [
       "str"
      ]
     },
     "execution_count": 7,
     "metadata": {},
     "output_type": "execute_result"
    }
   ],
   "source": [
    "type(ma_chaine)"
   ]
  },
  {
   "cell_type": "code",
   "execution_count": 14,
   "id": "ef554e9d-6b51-4e43-a1ab-f78e07294fd1",
   "metadata": {},
   "outputs": [
    {
     "data": {
      "text/plain": [
       "9"
      ]
     },
     "execution_count": 14,
     "metadata": {},
     "output_type": "execute_result"
    }
   ],
   "source": [
    "len(ma_chaine)"
   ]
  },
  {
   "cell_type": "code",
   "execution_count": 18,
   "id": "4e241c32-1195-4888-b170-61ca699b589f",
   "metadata": {},
   "outputs": [
    {
     "ename": "TypeError",
     "evalue": "object of type 'int' has no len()",
     "output_type": "error",
     "traceback": [
      "\u001b[31m---------------------------------------------------------------------------\u001b[39m",
      "\u001b[31mTypeError\u001b[39m                                 Traceback (most recent call last)",
      "\u001b[36mCell\u001b[39m\u001b[36m \u001b[39m\u001b[32mIn[18]\u001b[39m\u001b[32m, line 1\u001b[39m\n\u001b[32m----> \u001b[39m\u001b[32m1\u001b[39m \u001b[38;5;28;43mlen\u001b[39;49m\u001b[43m(\u001b[49m\u001b[43mmon_int\u001b[49m\u001b[43m)\u001b[49m;\n",
      "\u001b[31mTypeError\u001b[39m: object of type 'int' has no len()"
     ]
    }
   ],
   "source": [
    "len(mon_int);"
   ]
  },
  {
   "cell_type": "code",
   "execution_count": null,
   "id": "557dc9f8-06d4-4737-b6d5-ff37530fc71a",
   "metadata": {},
   "outputs": [],
   "source": []
  },
  {
   "cell_type": "code",
   "execution_count": 19,
   "id": "f350b436-f468-4953-accf-65b36a608054",
   "metadata": {},
   "outputs": [],
   "source": [
    "ma_chaine = 345"
   ]
  },
  {
   "cell_type": "code",
   "execution_count": 20,
   "id": "b37dc96e-f686-4333-b02d-39530ca207b0",
   "metadata": {},
   "outputs": [
    {
     "name": "stdout",
     "output_type": "stream",
     "text": [
      "345\n"
     ]
    }
   ],
   "source": [
    "print(ma_chaine)"
   ]
  },
  {
   "cell_type": "code",
   "execution_count": 21,
   "id": "0ad9495b-b08b-44b7-9403-90e5c58c1c48",
   "metadata": {},
   "outputs": [
    {
     "name": "stdout",
     "output_type": "stream",
     "text": [
      "0\n",
      "1\n",
      "2\n",
      "3\n",
      "4\n",
      "5\n",
      "6\n",
      "7\n",
      "8\n",
      "9\n",
      "10\n",
      "11\n",
      "12\n",
      "13\n",
      "14\n",
      "15\n",
      "16\n",
      "17\n",
      "18\n",
      "19\n",
      "20\n",
      "21\n",
      "22\n",
      "23\n",
      "24\n",
      "25\n",
      "26\n",
      "27\n",
      "28\n",
      "29\n",
      "30\n",
      "31\n",
      "32\n",
      "33\n",
      "34\n",
      "35\n",
      "36\n",
      "37\n",
      "38\n",
      "39\n",
      "40\n",
      "41\n",
      "42\n",
      "43\n",
      "44\n",
      "45\n",
      "46\n",
      "47\n",
      "48\n",
      "49\n",
      "50\n",
      "51\n",
      "52\n",
      "53\n",
      "54\n",
      "55\n",
      "56\n",
      "57\n",
      "58\n",
      "59\n",
      "60\n",
      "61\n",
      "62\n",
      "63\n",
      "64\n",
      "65\n",
      "66\n",
      "67\n",
      "68\n",
      "69\n",
      "70\n",
      "71\n",
      "72\n",
      "73\n",
      "74\n",
      "75\n",
      "76\n",
      "77\n",
      "78\n",
      "79\n",
      "80\n",
      "81\n",
      "82\n",
      "83\n",
      "84\n",
      "85\n",
      "86\n",
      "87\n",
      "88\n",
      "89\n",
      "90\n",
      "91\n",
      "92\n",
      "93\n",
      "94\n",
      "95\n",
      "96\n",
      "97\n",
      "98\n",
      "99\n"
     ]
    }
   ],
   "source": [
    "for i in range(100):\n",
    "    print(i)\n"
   ]
  },
  {
   "cell_type": "code",
   "execution_count": 22,
   "id": "00a1066c-b3c8-4523-8458-df0351ae671a",
   "metadata": {},
   "outputs": [
    {
     "name": "stdout",
     "output_type": "stream",
     "text": [
      "c'est trois\n"
     ]
    }
   ],
   "source": [
    "a = 3\n",
    "if a == 2: \n",
    "    print(\"c'est deux\") \n",
    "elif a == 3:\n",
    "    print(\"c'est trois\")\n",
    "else: \n",
    "    print(\"c'est autre chose\")"
   ]
  },
  {
   "cell_type": "code",
   "execution_count": 41,
   "id": "912a111d-1d8f-4dc8-b864-deb1e812d02c",
   "metadata": {},
   "outputs": [
    {
     "name": "stdout",
     "output_type": "stream",
     "text": [
      "1\n",
      "3\n",
      "2\n",
      "4\n"
     ]
    }
   ],
   "source": [
    "b = [1, 3, 2, 4]\n",
    "for number in b: \n",
    "    print(number)"
   ]
  },
  {
   "cell_type": "code",
   "execution_count": 26,
   "id": "dfa2acca-25e7-4180-811f-7dc81acb370e",
   "metadata": {},
   "outputs": [
    {
     "data": {
      "text/plain": [
       "True"
      ]
     },
     "execution_count": 26,
     "metadata": {},
     "output_type": "execute_result"
    }
   ],
   "source": [
    "True and False ; True or False "
   ]
  },
  {
   "cell_type": "code",
   "execution_count": 27,
   "id": "63955992-9461-4c9b-bec7-2866992130de",
   "metadata": {},
   "outputs": [
    {
     "data": {
      "text/plain": [
       "1"
      ]
     },
     "execution_count": 27,
     "metadata": {},
     "output_type": "execute_result"
    }
   ],
   "source": [
    "4 % 3"
   ]
  },
  {
   "cell_type": "code",
   "execution_count": 28,
   "id": "1e58b5cc-3f4e-4ac9-9f22-d03929474bd6",
   "metadata": {},
   "outputs": [
    {
     "data": {
      "text/plain": [
       "0"
      ]
     },
     "execution_count": 28,
     "metadata": {},
     "output_type": "execute_result"
    }
   ],
   "source": [
    "6 % 3"
   ]
  },
  {
   "cell_type": "code",
   "execution_count": 29,
   "id": "5960bed1-939b-44d6-9ed4-729f467f10be",
   "metadata": {},
   "outputs": [
    {
     "data": {
      "text/plain": [
       "3"
      ]
     },
     "execution_count": 29,
     "metadata": {},
     "output_type": "execute_result"
    }
   ],
   "source": [
    "6 // 2"
   ]
  },
  {
   "cell_type": "code",
   "execution_count": 31,
   "id": "87d890be-7b64-46f5-a9cd-91b5277f24b8",
   "metadata": {},
   "outputs": [
    {
     "data": {
      "text/plain": [
       "3"
      ]
     },
     "execution_count": 31,
     "metadata": {},
     "output_type": "execute_result"
    }
   ],
   "source": [
    "7//2"
   ]
  },
  {
   "cell_type": "code",
   "execution_count": 32,
   "id": "69563ddc-06b4-45a7-a26b-faab7cc35da9",
   "metadata": {},
   "outputs": [
    {
     "data": {
      "text/plain": [
       "3.5"
      ]
     },
     "execution_count": 32,
     "metadata": {},
     "output_type": "execute_result"
    }
   ],
   "source": [
    "7/2"
   ]
  },
  {
   "cell_type": "code",
   "execution_count": 39,
   "id": "840f4208-a3fd-4f2f-ba70-06108112f768",
   "metadata": {
    "scrolled": true
   },
   "outputs": [
    {
     "name": "stdout",
     "output_type": "stream",
     "text": [
      "1\n",
      "2\n",
      "fizz\n",
      "4\n",
      "buzz\n",
      "fizz\n",
      "7\n",
      "8\n",
      "fizz\n",
      "buzz\n",
      "11\n",
      "fizz\n",
      "13\n",
      "14\n",
      "fizzbuzz\n",
      "16\n",
      "17\n",
      "fizz\n",
      "19\n",
      "buzz\n"
     ]
    }
   ],
   "source": [
    "for number in range(1, 21):\n",
    "    if number % 3 == 0 and number % 5 == 0:\n",
    "        print(\"fizzbuzz\")\n",
    "    elif number % 3 == 0:\n",
    "        print(\"fizz\")\n",
    "    elif number % 5 == 0:\n",
    "        print(\"buzz\")\n",
    "    else: \n",
    "        print(str(number))"
   ]
  },
  {
   "cell_type": "code",
   "execution_count": 50,
   "id": "83058ca4-52eb-4806-a173-d92010cf500f",
   "metadata": {},
   "outputs": [
    {
     "name": "stdout",
     "output_type": "stream",
     "text": [
      "[4]\n"
     ]
    }
   ],
   "source": [
    "a = [1, 2, 3]\n",
    "b = [element * 2 for element in a if element % 2 == 0]\n",
    "print(b)\n",
    "\n",
    "c = []\n",
    "for element in a:\n",
    "    if element % 2 == 0:\n",
    "        c.append(element * 2)"
   ]
  },
  {
   "cell_type": "code",
   "execution_count": 51,
   "id": "5b8738d6-3e42-4586-b55d-62fb4caa0cdb",
   "metadata": {},
   "outputs": [
    {
     "data": {
      "text/plain": [
       "[PosixPath('pip_archive'),\n",
       " PosixPath('.mypy_cache'),\n",
       " PosixPath('.venv'),\n",
       " PosixPath('.ipynb_checkpoints')]"
      ]
     },
     "execution_count": 51,
     "metadata": {},
     "output_type": "execute_result"
    }
   ],
   "source": [
    "from pathlib import Path\n",
    "p = Path('.')\n",
    "[x for x in p.iterdir() if x.is_dir()]"
   ]
  },
  {
   "cell_type": "code",
   "execution_count": null,
   "id": "06b90e34-8098-4667-a0a7-f04eee5b81a5",
   "metadata": {},
   "outputs": [],
   "source": []
  }
 ],
 "metadata": {
  "kernelspec": {
   "display_name": "Python 3 (ipykernel)",
   "language": "python",
   "name": "python3"
  },
  "language_info": {
   "codemirror_mode": {
    "name": "ipython",
    "version": 3
   },
   "file_extension": ".py",
   "mimetype": "text/x-python",
   "name": "python",
   "nbconvert_exporter": "python",
   "pygments_lexer": "ipython3",
   "version": "3.12.2"
  }
 },
 "nbformat": 4,
 "nbformat_minor": 5
}
