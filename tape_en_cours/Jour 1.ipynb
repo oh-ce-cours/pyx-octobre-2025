{
 "cells": [
  {
   "cell_type": "code",
   "execution_count": null,
   "id": "f7e8c78f-2751-4bb1-ae53-3fe497152cfe",
   "metadata": {},
   "outputs": [],
   "source": []
  }
 ],
 "metadata": {
  "kernelspec": {
   "display_name": "",
   "name": ""
  },
  "language_info": {
   "name": ""
  }
 },
 "nbformat": 4,
 "nbformat_minor": 5
}
