{
 "cells": [
  {
   "cell_type": "markdown",
   "id": "0732d2cf-d0e8-4039-9765-0bd31fecefd6",
   "metadata": {},
   "source": [
    "# Matin \n",
    "\n",
    "* présentation du groupe\n",
    "* définition des attentes en terme d'outils\n",
    "* installation de python\n",
    "* création de `virtualenv`\n",
    "  * création : `python -m venv NOM_DU_VENV`\n",
    "  * activation :\n",
    "    * unix : `source NOM_DU_VENV/bin/activate`\n",
    "    * windows : `NOM_DU_VENV\\Scripts\\activate`\n",
    "  * desactivation : `deactivate` ou on ferme le shell \n",
    "  * suppression : on supprime le dossier\n",
    "* pip pour installer des paquets\n",
    "  * installer un paquet : `pip install numpy`\n",
    "  * lister les paquets actuellement installés avec leur version : `pip freeze`, souvent on crée un fichier de requirements : `pip freeze > requirements.txt\n",
    "  * installer plusieurs paquets présents dans un fichier de requirement : `pip install -r requirements.txt`. On utilise cela pour reconstruire un projet sur une nouvelle machine (on ne partage SURTOUT PAS le venv entre des ordinateurs)\n",
    "  * on peut télécharger et installer des paquets \"localement\"\n",
    "    * télécharger le packet au format compilé (wheel) pour une plateforme spécifique : `pip download --platform=manylinux1_x86_64 --only-binary=:all: lxml`\n",
    "    * installer : `pip install -r requirements_offline.txt --no-index --find-links file:///Users/matthieufalce/Desktop/pyx-octobre-2025/tape_en_cours/pip_archive` "
   ]
  },
  {
   "cell_type": "markdown",
   "id": "ecb6847b-ba19-4f54-b9b0-899b7865283d",
   "metadata": {},
   "source": [
    "# Les types"
   ]
  },
  {
   "cell_type": "code",
   "execution_count": 4,
   "id": "4bd12e0a-e0ce-481e-8534-d5af0ba4efea",
   "metadata": {},
   "outputs": [],
   "source": [
    "mon_int = 3"
   ]
  },
  {
   "cell_type": "code",
   "execution_count": 5,
   "id": "bc92447f-554e-426d-83b4-8db8e7ff0101",
   "metadata": {},
   "outputs": [
    {
     "data": {
      "text/plain": [
       "int"
      ]
     },
     "execution_count": 5,
     "metadata": {},
     "output_type": "execute_result"
    }
   ],
   "source": [
    "type(mon_int)"
   ]
  },
  {
   "cell_type": "code",
   "execution_count": null,
   "id": "0cafbeda-757a-4688-bc0b-33e86f582c07",
   "metadata": {},
   "outputs": [],
   "source": [
    "ma_"
   ]
  }
 ],
 "metadata": {
  "kernelspec": {
   "display_name": "Python 3 (ipykernel)",
   "language": "python",
   "name": "python3"
  },
  "language_info": {
   "codemirror_mode": {
    "name": "ipython",
    "version": 3
   },
   "file_extension": ".py",
   "mimetype": "text/x-python",
   "name": "python",
   "nbconvert_exporter": "python",
   "pygments_lexer": "ipython3",
   "version": "3.12.2"
  }
 },
 "nbformat": 4,
 "nbformat_minor": 5
}
