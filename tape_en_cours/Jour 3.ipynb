{
 "cells": [
  {
   "cell_type": "code",
   "execution_count": null,
   "id": "2a0a9378-ab52-4bfe-b5e6-cb70981b83d5",
   "metadata": {},
   "outputs": [],
   "source": []
  }
 ],
 "metadata": {
  "kernelspec": {
   "display_name": "",
   "name": ""
  },
  "language_info": {
   "name": ""
  }
 },
 "nbformat": 4,
 "nbformat_minor": 5
}
