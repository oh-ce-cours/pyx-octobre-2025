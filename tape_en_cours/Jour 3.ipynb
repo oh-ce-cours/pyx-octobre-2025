{
 "cells": [
  {
   "cell_type": "code",
   "execution_count": 1,
   "id": "2a0a9378-ab52-4bfe-b5e6-cb70981b83d5",
   "metadata": {},
   "outputs": [],
   "source": [
    "import os"
   ]
  },
  {
   "cell_type": "code",
   "execution_count": 5,
   "id": "ea0ec8fb-5797-457c-b475-90889c5aecdc",
   "metadata": {},
   "outputs": [],
   "source": [
    "res = os.system(\"ls > toto.txt\")"
   ]
  },
  {
   "cell_type": "code",
   "execution_count": 4,
   "id": "5fac2568-a858-49a2-9c73-8b4d2f2bdd32",
   "metadata": {},
   "outputs": [
    {
     "data": {
      "text/plain": [
       "0"
      ]
     },
     "execution_count": 4,
     "metadata": {},
     "output_type": "execute_result"
    }
   ],
   "source": [
    "res"
   ]
  },
  {
   "cell_type": "code",
   "execution_count": 11,
   "id": "7bc4ccc7-a887-402b-8cbe-e83f36223122",
   "metadata": {},
   "outputs": [
    {
     "data": {
      "text/plain": [
       "'\\x1b[1m\\x1b[36m__pycache__\\x1b[m\\x1b[m\\narchive.py\\ndemo_typer.py\\ndemo.txt\\nhello_world.py\\nJour 1.ipynb\\nJour 2.ipynb\\nJour 3.ipynb\\nlist_dirs_improved.py\\nlist_dirs.py\\nmultiple_files.zip\\n\\x1b[1m\\x1b[36mpip_archive\\x1b[m\\x1b[m\\nreport.json\\nrequirements_offline.txt\\nrequirements.txt\\ntoto.tar\\ntoto.txt\\n'"
      ]
     },
     "execution_count": 11,
     "metadata": {},
     "output_type": "execute_result"
    }
   ],
   "source": [
    "open(\"toto.txt\", encoding=\"utf8\").read()"
   ]
  },
  {
   "cell_type": "code",
   "execution_count": 12,
   "id": "a36c6f7c-e451-4949-89e6-0ad8649ac800",
   "metadata": {},
   "outputs": [],
   "source": [
    "import re"
   ]
  },
  {
   "cell_type": "code",
   "execution_count": 16,
   "id": "01edb01b-0f65-4f0a-90d6-471ef5dc3120",
   "metadata": {},
   "outputs": [],
   "source": [
    "ansi_escape = re.compile(r'\\x1B(?:[@-Z\\\\-_]|\\[[0-?]*[ -/]*[@-~])')"
   ]
  },
  {
   "cell_type": "code",
   "execution_count": 17,
   "id": "374a2af5-aa87-4f4a-91a8-7150cb85963d",
   "metadata": {},
   "outputs": [],
   "source": [
    "result = ansi_escape.sub('', open(\"toto.txt\", encoding=\"utf8\").read())"
   ]
  },
  {
   "cell_type": "code",
   "execution_count": 24,
   "id": "e3517f43-059a-4c8c-a460-8b086bbeb84c",
   "metadata": {},
   "outputs": [],
   "source": [
    "files = result.split(\"\\n\")"
   ]
  },
  {
   "cell_type": "code",
   "execution_count": 28,
   "id": "cc779e44-ba5b-4ae4-850b-ce344911ac81",
   "metadata": {},
   "outputs": [
    {
     "data": {
      "text/plain": [
       "['__pycache__',\n",
       " 'archive.py',\n",
       " 'demo_typer.py',\n",
       " 'demo.txt',\n",
       " 'hello_world.py',\n",
       " 'Jour 1.ipynb',\n",
       " 'Jour 2.ipynb',\n",
       " 'Jour 3.ipynb',\n",
       " 'list_dirs_improved.py',\n",
       " 'list_dirs.py',\n",
       " 'multiple_files.zip',\n",
       " 'pip_archive',\n",
       " 'report.json',\n",
       " 'requirements_offline.txt',\n",
       " 'requirements.txt',\n",
       " 'toto.tar',\n",
       " 'toto.txt',\n",
       " '']"
      ]
     },
     "execution_count": 28,
     "metadata": {},
     "output_type": "execute_result"
    }
   ],
   "source": [
    "files"
   ]
  },
  {
   "cell_type": "code",
   "execution_count": 29,
   "id": "93575273-63cf-44a4-88e5-159452777447",
   "metadata": {},
   "outputs": [],
   "source": [
    "import os, re\n",
    "res = os.system(\"ls > toto.txt\")\n",
    "ansi_escape = re.compile(r'\\x1B(?:[@-Z\\\\-_]|\\[[0-?]*[ -/]*[@-~])')\n",
    "result = ansi_escape.sub('', open(\"toto.txt\", encoding=\"utf8\").read())\n",
    "result = ansi_escape.sub('', open(\"toto.txt\", encoding=\"cp850\").read())"
   ]
  },
  {
   "cell_type": "code",
   "execution_count": 34,
   "id": "7268dad0-8831-480c-a98c-8f002faac726",
   "metadata": {},
   "outputs": [
    {
     "name": "stdout",
     "output_type": "stream",
     "text": [
      "[('__pycache__', 11), ('archive.py', 10), ('demo_typer.py', 13), ('demo.txt', 8), ('hello_world.py', 14), ('Jour 1.ipynb', 12), ('Jour 2.ipynb', 12), ('Jour 3.ipynb', 12), ('list_dirs_improved.py', 21), ('list_dirs.py', 12), ('multiple_files.zip', 18), ('pip_archive', 11), ('report.json', 11), ('requirements_offline.txt', 24), ('requirements.txt', 16), ('toto.tar', 8), ('toto.txt', 8), ('', 0)]\n"
     ]
    }
   ],
   "source": [
    "res = []\n",
    "for file in files:\n",
    "    t = (file, len(file))\n",
    "    res.append(t)\n",
    "print(res)"
   ]
  },
  {
   "cell_type": "code",
   "execution_count": 35,
   "id": "ec9c5d71-ee94-4a78-b25c-0a4754bb1ff9",
   "metadata": {},
   "outputs": [
    {
     "name": "stdout",
     "output_type": "stream",
     "text": [
      "{'__pycache__': 11, 'archive.py': 10, 'demo_typer.py': 13, 'demo.txt': 8, 'hello_world.py': 14, 'Jour 1.ipynb': 12, 'Jour 2.ipynb': 12, 'Jour 3.ipynb': 12, 'list_dirs_improved.py': 21, 'list_dirs.py': 12, 'multiple_files.zip': 18, 'pip_archive': 11, 'report.json': 11, 'requirements_offline.txt': 24, 'requirements.txt': 16, 'toto.tar': 8, 'toto.txt': 8, '': 0}\n"
     ]
    }
   ],
   "source": [
    "res = {}\n",
    "for file in files:\n",
    "    res[file] = len(file)\n",
    "print(res)"
   ]
  },
  {
   "cell_type": "code",
   "execution_count": 39,
   "id": "c35ccfbb-5532-47f5-b844-c887bba95f65",
   "metadata": {},
   "outputs": [],
   "source": [
    "# https://stackoverflow.com/questions/269060/is-there-a-python-library-function-which-attempts-to-guess-the-character-encodin\n",
    "def decode(s, encodings=('ascii', 'utf8', 'latin1')):\n",
    "    for encoding in encodings:\n",
    "        try:\n",
    "            return s.decode(encoding)\n",
    "        except UnicodeDecodeError:\n",
    "            pass\n",
    "    return s.decode('ascii', 'ignore')"
   ]
  },
  {
   "cell_type": "code",
   "execution_count": 38,
   "id": "908f103f-fec4-4979-89f8-710e8535377a",
   "metadata": {},
   "outputs": [
    {
     "data": {
      "text/plain": [
       "\u001b[31mSignature:\u001b[39m decode(s, encodings=(\u001b[33m'ascii'\u001b[39m, \u001b[33m'utf8'\u001b[39m, \u001b[33m'latin1'\u001b[39m))\n",
       "\u001b[31mDocstring:\u001b[39m <no docstring>\n",
       "\u001b[31mFile:\u001b[39m      /var/folders/rr/0f1xn9ts4j9fvch4kzrq3qfw0000gn/T/ipykernel_33294/4103078795.py\n",
       "\u001b[31mType:\u001b[39m      function"
      ]
     },
     "metadata": {},
     "output_type": "display_data"
    }
   ],
   "source": []
  },
  {
   "cell_type": "code",
   "execution_count": null,
   "id": "9655a8f3-a687-4f03-a686-69603e950c9e",
   "metadata": {},
   "outputs": [],
   "source": [
    "taille_la_plus_longue = max([len(line) fo])"
   ]
  },
  {
   "cell_type": "code",
   "execution_count": null,
   "id": "154f5cbd-a741-4058-b40d-5bc5fa42afbe",
   "metadata": {},
   "outputs": [],
   "source": []
  }
 ],
 "metadata": {
  "kernelspec": {
   "display_name": "Python 3 (ipykernel)",
   "language": "python",
   "name": "python3"
  },
  "language_info": {
   "codemirror_mode": {
    "name": "ipython",
    "version": 3
   },
   "file_extension": ".py",
   "mimetype": "text/x-python",
   "name": "python",
   "nbconvert_exporter": "python",
   "pygments_lexer": "ipython3",
   "version": "3.12.2"
  }
 },
 "nbformat": 4,
 "nbformat_minor": 5
}
