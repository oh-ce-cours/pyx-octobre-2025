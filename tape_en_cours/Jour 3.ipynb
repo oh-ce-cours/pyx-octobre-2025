{
 "cells": [
  {
   "cell_type": "code",
   "execution_count": 1,
   "id": "2a0a9378-ab52-4bfe-b5e6-cb70981b83d5",
   "metadata": {},
   "outputs": [],
   "source": [
    "import os"
   ]
  },
  {
   "cell_type": "code",
   "execution_count": 5,
   "id": "ea0ec8fb-5797-457c-b475-90889c5aecdc",
   "metadata": {},
   "outputs": [],
   "source": [
    "res = os.system(\"ls > toto.txt\")"
   ]
  },
  {
   "cell_type": "code",
   "execution_count": 4,
   "id": "5fac2568-a858-49a2-9c73-8b4d2f2bdd32",
   "metadata": {},
   "outputs": [
    {
     "data": {
      "text/plain": [
       "0"
      ]
     },
     "execution_count": 4,
     "metadata": {},
     "output_type": "execute_result"
    }
   ],
   "source": [
    "res"
   ]
  },
  {
   "cell_type": "code",
   "execution_count": 10,
   "id": "7bc4ccc7-a887-402b-8cbe-e83f36223122",
   "metadata": {},
   "outputs": [
    {
     "data": {
      "text/plain": [
       "'\\x1b[1m\\x1b[36m__pycache__\\x1b[m\\x1b[m\\narchive.py\\ndemo_typer.py\\ndemo.txt\\nhello_world.py\\nJour 1.ipynb\\nJour 2.ipynb\\nJour 3.ipynb\\nlist_dirs_improved.py\\nlist_dirs.py\\nmultiple_files.zip\\n\\x1b[1m\\x1b[36mpip_archive\\x1b[m\\x1b[m\\nreport.json\\nrequirements_offline.txt\\nrequirements.txt\\ntoto.tar\\ntoto.txt\\n'"
      ]
     },
     "execution_count": 10,
     "metadata": {},
     "output_type": "execute_result"
    }
   ],
   "source": [
    "open(\"toto.txt\", encoding=\"utf8\").read()"
   ]
  },
  {
   "cell_type": "code",
   "execution_count": null,
   "id": "a36c6f7c-e451-4949-89e6-0ad8649ac800",
   "metadata": {},
   "outputs": [],
   "source": []
  }
 ],
 "metadata": {
  "kernelspec": {
   "display_name": "Python 3 (ipykernel)",
   "language": "python",
   "name": "python3"
  },
  "language_info": {
   "codemirror_mode": {
    "name": "ipython",
    "version": 3
   },
   "file_extension": ".py",
   "mimetype": "text/x-python",
   "name": "python",
   "nbconvert_exporter": "python",
   "pygments_lexer": "ipython3",
   "version": "3.12.2"
  }
 },
 "nbformat": 4,
 "nbformat_minor": 5
}
