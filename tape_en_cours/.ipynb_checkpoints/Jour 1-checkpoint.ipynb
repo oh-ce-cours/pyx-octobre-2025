{
 "cells": [
  {
   "cell_type": "code",
   "execution_count": 1,
   "id": "f7e8c78f-2751-4bb1-ae53-3fe497152cfe",
   "metadata": {},
   "outputs": [
    {
     "data": {
      "text/plain": [
       "4"
      ]
     },
     "execution_count": 1,
     "metadata": {},
     "output_type": "execute_result"
    }
   ],
   "source": [
    "2+2"
   ]
  },
  {
   "cell_type": "code",
   "execution_count": 2,
   "id": "cbc80822-5303-438f-b776-991282c70b05",
   "metadata": {},
   "outputs": [],
   "source": [
    "import os "
   ]
  },
  {
   "cell_type": "code",
   "execution_count": 3,
   "id": "221125cf-5669-4073-b26c-fe8d3fbf58c5",
   "metadata": {},
   "outputs": [
    {
     "data": {
      "text/plain": [
       "['requirements.txt', '.gitkeep', '.venv', '.ipynb_checkpoints', 'Jour 1.ipynb']"
      ]
     },
     "execution_count": 3,
     "metadata": {},
     "output_type": "execute_result"
    }
   ],
   "source": [
    "os.listdir()"
   ]
  },
  {
   "cell_type": "code",
   "execution_count": null,
   "id": "1ea1e099-6129-44da-b192-c1896788e839",
   "metadata": {},
   "outputs": [],
   "source": []
  }
 ],
 "metadata": {
  "kernelspec": {
   "display_name": "Python 3 (ipykernel)",
   "language": "python",
   "name": "python3"
  },
  "language_info": {
   "codemirror_mode": {
    "name": "ipython",
    "version": 3
   },
   "file_extension": ".py",
   "mimetype": "text/x-python",
   "name": "python",
   "nbconvert_exporter": "python",
   "pygments_lexer": "ipython3",
   "version": "3.12.2"
  }
 },
 "nbformat": 4,
 "nbformat_minor": 5
}
