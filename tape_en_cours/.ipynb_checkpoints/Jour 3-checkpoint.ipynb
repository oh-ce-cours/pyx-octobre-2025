{
 "cells": [
  {
   "cell_type": "code",
   "execution_count": 1,
   "id": "2a0a9378-ab52-4bfe-b5e6-cb70981b83d5",
   "metadata": {},
   "outputs": [],
   "source": [
    "import os"
   ]
  },
  {
   "cell_type": "code",
   "execution_count": 5,
   "id": "ea0ec8fb-5797-457c-b475-90889c5aecdc",
   "metadata": {},
   "outputs": [],
   "source": [
    "res = os.system(\"ls > toto.txt\")"
   ]
  },
  {
   "cell_type": "code",
   "execution_count": 4,
   "id": "5fac2568-a858-49a2-9c73-8b4d2f2bdd32",
   "metadata": {},
   "outputs": [
    {
     "data": {
      "text/plain": [
       "0"
      ]
     },
     "execution_count": 4,
     "metadata": {},
     "output_type": "execute_result"
    }
   ],
   "source": [
    "res"
   ]
  },
  {
   "cell_type": "code",
   "execution_count": 11,
   "id": "7bc4ccc7-a887-402b-8cbe-e83f36223122",
   "metadata": {},
   "outputs": [
    {
     "data": {
      "text/plain": [
       "'\\x1b[1m\\x1b[36m__pycache__\\x1b[m\\x1b[m\\narchive.py\\ndemo_typer.py\\ndemo.txt\\nhello_world.py\\nJour 1.ipynb\\nJour 2.ipynb\\nJour 3.ipynb\\nlist_dirs_improved.py\\nlist_dirs.py\\nmultiple_files.zip\\n\\x1b[1m\\x1b[36mpip_archive\\x1b[m\\x1b[m\\nreport.json\\nrequirements_offline.txt\\nrequirements.txt\\ntoto.tar\\ntoto.txt\\n'"
      ]
     },
     "execution_count": 11,
     "metadata": {},
     "output_type": "execute_result"
    }
   ],
   "source": [
    "open(\"toto.txt\", encoding=\"utf8\").read()"
   ]
  },
  {
   "cell_type": "code",
   "execution_count": 12,
   "id": "a36c6f7c-e451-4949-89e6-0ad8649ac800",
   "metadata": {},
   "outputs": [],
   "source": [
    "import re"
   ]
  },
  {
   "cell_type": "code",
   "execution_count": 16,
   "id": "01edb01b-0f65-4f0a-90d6-471ef5dc3120",
   "metadata": {},
   "outputs": [],
   "source": [
    "ansi_escape = re.compile(r'\\x1B(?:[@-Z\\\\-_]|\\[[0-?]*[ -/]*[@-~])')"
   ]
  },
  {
   "cell_type": "code",
   "execution_count": 17,
   "id": "374a2af5-aa87-4f4a-91a8-7150cb85963d",
   "metadata": {},
   "outputs": [],
   "source": [
    "result = ansi_escape.sub('', open(\"toto.txt\", encoding=\"utf8\").read())"
   ]
  },
  {
   "cell_type": "code",
   "execution_count": 24,
   "id": "e3517f43-059a-4c8c-a460-8b086bbeb84c",
   "metadata": {},
   "outputs": [],
   "source": [
    "files = result.split(\"\\n\")"
   ]
  },
  {
   "cell_type": "code",
   "execution_count": 28,
   "id": "cc779e44-ba5b-4ae4-850b-ce344911ac81",
   "metadata": {},
   "outputs": [
    {
     "data": {
      "text/plain": [
       "['__pycache__',\n",
       " 'archive.py',\n",
       " 'demo_typer.py',\n",
       " 'demo.txt',\n",
       " 'hello_world.py',\n",
       " 'Jour 1.ipynb',\n",
       " 'Jour 2.ipynb',\n",
       " 'Jour 3.ipynb',\n",
       " 'list_dirs_improved.py',\n",
       " 'list_dirs.py',\n",
       " 'multiple_files.zip',\n",
       " 'pip_archive',\n",
       " 'report.json',\n",
       " 'requirements_offline.txt',\n",
       " 'requirements.txt',\n",
       " 'toto.tar',\n",
       " 'toto.txt',\n",
       " '']"
      ]
     },
     "execution_count": 28,
     "metadata": {},
     "output_type": "execute_result"
    }
   ],
   "source": [
    "files"
   ]
  },
  {
   "cell_type": "code",
   "execution_count": 29,
   "id": "93575273-63cf-44a4-88e5-159452777447",
   "metadata": {},
   "outputs": [],
   "source": [
    "import os, re\n",
    "res = os.system(\"ls > toto.txt\")\n",
    "ansi_escape = re.compile(r'\\x1B(?:[@-Z\\\\-_]|\\[[0-?]*[ -/]*[@-~])')\n",
    "result = ansi_escape.sub('', open(\"toto.txt\", encoding=\"utf8\").read())\n",
    "result = ansi_escape.sub('', open(\"toto.txt\", encoding=\"cp850\").read())"
   ]
  },
  {
   "cell_type": "code",
   "execution_count": 34,
   "id": "7268dad0-8831-480c-a98c-8f002faac726",
   "metadata": {},
   "outputs": [
    {
     "name": "stdout",
     "output_type": "stream",
     "text": [
      "[('__pycache__', 11), ('archive.py', 10), ('demo_typer.py', 13), ('demo.txt', 8), ('hello_world.py', 14), ('Jour 1.ipynb', 12), ('Jour 2.ipynb', 12), ('Jour 3.ipynb', 12), ('list_dirs_improved.py', 21), ('list_dirs.py', 12), ('multiple_files.zip', 18), ('pip_archive', 11), ('report.json', 11), ('requirements_offline.txt', 24), ('requirements.txt', 16), ('toto.tar', 8), ('toto.txt', 8), ('', 0)]\n"
     ]
    }
   ],
   "source": [
    "res = []\n",
    "for file in files:\n",
    "    t = (file, len(file))\n",
    "    res.append(t)\n",
    "print(res)"
   ]
  },
  {
   "cell_type": "code",
   "execution_count": 35,
   "id": "ec9c5d71-ee94-4a78-b25c-0a4754bb1ff9",
   "metadata": {},
   "outputs": [
    {
     "name": "stdout",
     "output_type": "stream",
     "text": [
      "{'__pycache__': 11, 'archive.py': 10, 'demo_typer.py': 13, 'demo.txt': 8, 'hello_world.py': 14, 'Jour 1.ipynb': 12, 'Jour 2.ipynb': 12, 'Jour 3.ipynb': 12, 'list_dirs_improved.py': 21, 'list_dirs.py': 12, 'multiple_files.zip': 18, 'pip_archive': 11, 'report.json': 11, 'requirements_offline.txt': 24, 'requirements.txt': 16, 'toto.tar': 8, 'toto.txt': 8, '': 0}\n"
     ]
    }
   ],
   "source": [
    "res = {}\n",
    "for file in files:\n",
    "    res[file] = len(file)\n",
    "print(res)"
   ]
  },
  {
   "cell_type": "code",
   "execution_count": 39,
   "id": "c35ccfbb-5532-47f5-b844-c887bba95f65",
   "metadata": {},
   "outputs": [],
   "source": [
    "# https://stackoverflow.com/questions/269060/is-there-a-python-library-function-which-attempts-to-guess-the-character-encodin\n",
    "def decode(s, encodings=('ascii', 'utf8', 'latin1')):\n",
    "    for encoding in encodings:\n",
    "        try:\n",
    "            return s.decode(encoding)\n",
    "        except UnicodeDecodeError:\n",
    "            pass\n",
    "    return s.decode('ascii', 'ignore')"
   ]
  },
  {
   "cell_type": "code",
   "execution_count": 38,
   "id": "908f103f-fec4-4979-89f8-710e8535377a",
   "metadata": {},
   "outputs": [
    {
     "data": {
      "text/plain": [
       "\u001b[31mSignature:\u001b[39m decode(s, encodings=(\u001b[33m'ascii'\u001b[39m, \u001b[33m'utf8'\u001b[39m, \u001b[33m'latin1'\u001b[39m))\n",
       "\u001b[31mDocstring:\u001b[39m <no docstring>\n",
       "\u001b[31mFile:\u001b[39m      /var/folders/rr/0f1xn9ts4j9fvch4kzrq3qfw0000gn/T/ipykernel_33294/4103078795.py\n",
       "\u001b[31mType:\u001b[39m      function"
      ]
     },
     "metadata": {},
     "output_type": "display_data"
    }
   ],
   "source": []
  },
  {
   "cell_type": "code",
   "execution_count": 41,
   "id": "9655a8f3-a687-4f03-a686-69603e950c9e",
   "metadata": {},
   "outputs": [
    {
     "name": "stdout",
     "output_type": "stream",
     "text": [
      "24\n"
     ]
    }
   ],
   "source": [
    "taille_la_plus_longue = max([len(line) for line in files])\n",
    "print(taille_la_plus_longue)"
   ]
  },
  {
   "cell_type": "code",
   "execution_count": 43,
   "id": "154f5cbd-a741-4058-b40d-5bc5fa42afbe",
   "metadata": {},
   "outputs": [],
   "source": [
    "tailles_des_mots = [('__pycache__', 11), ('archive.py', 10), ('demo_typer.py', 13), ('demo.txt', 8), ('hello_world.py', 14), ('Jour 1.ipynb', 12), ('Jour 2.ipynb', 12), ('Jour 3.ipynb', 12), ('list_dirs_improved.py', 21), ('list_dirs.py', 12), ('multiple_files.zip', 18), ('pip_archive', 11), ('report.json', 11), ('requirements_offline.txt', 24), ('requirements.txt', 16), ('toto.tar', 8), ('toto.txt', 8), ('', 0)]"
   ]
  },
  {
   "cell_type": "code",
   "execution_count": 56,
   "id": "2379782d-f327-4f88-a55a-a0c61949d742",
   "metadata": {},
   "outputs": [],
   "source": [
    "def prendre_le_premier_element(x):\n",
    "    return x[1]\n",
    "\n",
    "sorted(tailles_des_mots, key=prendre_le_premier_element)[-1]\n",
    "mot_le_plus_long = sorted(tailles_des_mots, key=lambda x: x[1])[-1]\n"
   ]
  },
  {
   "cell_type": "code",
   "execution_count": 59,
   "id": "2c4f0d76-945d-4714-bc4d-7415331b1e58",
   "metadata": {},
   "outputs": [],
   "source": [
    "taille_max = mot_le_plus_long[1]"
   ]
  },
  {
   "cell_type": "code",
   "execution_count": 66,
   "id": "912035a2-2f58-436b-a9cc-68ee64fe462a",
   "metadata": {},
   "outputs": [
    {
     "data": {
      "text/plain": [
       "\"abc-('requirements_offline.txt', 24)\""
      ]
     },
     "execution_count": 66,
     "metadata": {},
     "output_type": "execute_result"
    }
   ],
   "source": [
    "toto = sorted(tailles_des_mots, key=prendre_le_premier_element)[-1]\n",
    "f\"abc-{toto}\""
   ]
  },
  {
   "cell_type": "code",
   "execution_count": 84,
   "id": "b68d15ac-1322-482c-88dc-fb31aecff410",
   "metadata": {},
   "outputs": [
    {
     "name": "stdout",
     "output_type": "stream",
     "text": [
      "__pycache__.............\n",
      "archive.py..............\n",
      "demo_typer.py...........\n",
      "demo.txt................\n",
      "hello_world.py..........\n",
      "Jour 1.ipynb............\n",
      "Jour 2.ipynb............\n",
      "Jour 3.ipynb............\n",
      "list_dirs_improved.py...\n",
      "list_dirs.py............\n",
      "multiple_files.zip......\n",
      "pip_archive.............\n",
      "report.json.............\n",
      "requirements_offline.txt\n",
      "requirements.txt........\n",
      "toto.tar................\n",
      "toto.txt................\n",
      "........................\n"
     ]
    }
   ],
   "source": [
    "taille_la_plus_longue = max([len(line) for line in files])\n",
    "for file in files:\n",
    "    print(f\"{file:.<{taille_la_plus_longue}}\")"
   ]
  },
  {
   "cell_type": "code",
   "execution_count": null,
   "id": "043db1df-8144-49ce-8b35-9f57bedb1257",
   "metadata": {},
   "outputs": [],
   "source": []
  },
  {
   "cell_type": "code",
   "execution_count": 85,
   "id": "c0cd625a-bce2-47f5-92ff-de9ba9c5021a",
   "metadata": {},
   "outputs": [],
   "source": [
    "import subprocess "
   ]
  },
  {
   "cell_type": "code",
   "execution_count": 86,
   "id": "334ae219-27d7-474d-80f8-24f7d8c7e997",
   "metadata": {},
   "outputs": [
    {
     "name": "stdout",
     "output_type": "stream",
     "text": [
      "Résultat de ls :\n",
      "\u001b[1m\u001b[36m__pycache__\u001b[m\u001b[m\n",
      "archive.py\n",
      "demo_subprocess.py\n",
      "demo_typer.py\n",
      "demo.txt\n",
      "hello_world.py\n",
      "Jour 1.ipynb\n",
      "Jour 2.ipynb\n",
      "Jour 3.ipynb\n",
      "list_dirs_improved.py\n",
      "list_dirs.py\n",
      "multiple_files.zip\n",
      "\u001b[1m\u001b[36mpip_archive\u001b[m\u001b[m\n",
      "report.json\n",
      "requirements_offline.txt\n",
      "requirements.txt\n",
      "toto.tar\n",
      "toto.txt\n",
      "\n"
     ]
    }
   ],
   "source": [
    "import subprocess\n",
    "\n",
    "try:\n",
    "    result = subprocess.run(['ls'], capture_output=True, text=True, check=True)\n",
    "    output = result.stdout\n",
    "    print(\"Résultat de ls :\")\n",
    "    print(output)\n",
    "except subprocess.CalledProcessError as e:\n",
    "    print(f\"Erreur lors de l'exécution de ls: {e}\")\n",
    "    print(f\"Sortie d'erreur : {e.stderr}\")\n",
    "except Exception as e:\n",
    "    print(f\"Une erreur inattendue est survenue : {e}\")\n"
   ]
  },
  {
   "cell_type": "code",
   "execution_count": 87,
   "id": "c99face0-8226-438f-924d-cc56a8f122b9",
   "metadata": {},
   "outputs": [
    {
     "data": {
      "text/plain": [
       "'\\x1b[1m\\x1b[36m__pycache__\\x1b[m\\x1b[m\\narchive.py\\ndemo_subprocess.py\\ndemo_typer.py\\ndemo.txt\\nhello_world.py\\nJour 1.ipynb\\nJour 2.ipynb\\nJour 3.ipynb\\nlist_dirs_improved.py\\nlist_dirs.py\\nmultiple_files.zip\\n\\x1b[1m\\x1b[36mpip_archive\\x1b[m\\x1b[m\\nreport.json\\nrequirements_offline.txt\\nrequirements.txt\\ntoto.tar\\ntoto.txt\\n'"
      ]
     },
     "execution_count": 87,
     "metadata": {},
     "output_type": "execute_result"
    }
   ],
   "source": [
    "output"
   ]
  },
  {
   "cell_type": "code",
   "execution_count": 92,
   "id": "6b1c51a2-6c93-4e42-9a2f-ac29ced52130",
   "metadata": {},
   "outputs": [
    {
     "name": "stdout",
     "output_type": "stream",
     "text": [
      "Erreur lors de l'exécution de ls: Command '['rm', 'ttree']' returned non-zero exit status 1.\n",
      "Status code: 1\n",
      "Sortie d'erreur : rm: ttree: No such file or directory\n",
      "\n"
     ]
    }
   ],
   "source": [
    "import subprocess\n",
    "\n",
    "try:\n",
    "    result = subprocess.run(['rm', \"ttree\"], capture_output=True, text=True, check=True)\n",
    "    output = result.stdout\n",
    "    print(\"Résultat de ls :\")\n",
    "    print(output)\n",
    "except subprocess.CalledProcessError as e:\n",
    "    print(f\"Erreur lors de l'exécution de ls: {e}\")\n",
    "    print(f\"Status code: {e.returncode}\")\n",
    "    print(f\"Sortie d'erreur : {e.stderr}\")\n",
    "except Exception as e:\n",
    "    print(f\"Une erreur inattendue est survenue : {e}\")\n"
   ]
  },
  {
   "cell_type": "code",
   "execution_count": 93,
   "id": "b269ba02-788b-4831-8d16-827392c702a8",
   "metadata": {},
   "outputs": [
    {
     "data": {
      "text/plain": [
       "['python', 'archive.py', 'report', '..', '--output-txt', 'toto.txt']"
      ]
     },
     "execution_count": 93,
     "metadata": {},
     "output_type": "execute_result"
    }
   ],
   "source": [
    "\"python archive.py report .. --output-txt toto.txt\".split()"
   ]
  },
  {
   "cell_type": "markdown",
   "id": "d82d9901-99f1-44b4-aeb7-df45cbede47a",
   "metadata": {},
   "source": [
    "# API web"
   ]
  },
  {
   "cell_type": "code",
   "execution_count": 114,
   "id": "c95e75a8-5003-47f4-93bd-2a22ba9adf37",
   "metadata": {},
   "outputs": [],
   "source": [
    "import requests \n",
    "import datetime \n"
   ]
  },
  {
   "cell_type": "code",
   "execution_count": 115,
   "id": "fd2aecb1-9982-4108-a3e2-51eff6af305f",
   "metadata": {},
   "outputs": [],
   "source": [
    "base_url = \"https://x8ki-letl-twmt.n7.xano.io/api:N1uLlTBt\"\n",
    "resp = requests.get(f\"{base_url}/user\")"
   ]
  },
  {
   "cell_type": "code",
   "execution_count": 116,
   "id": "d5ced7f7-d265-4266-9a31-e5c42eb96e6f",
   "metadata": {},
   "outputs": [
    {
     "name": "stdout",
     "output_type": "stream",
     "text": [
      "<Response [200]>\n"
     ]
    }
   ],
   "source": [
    "print(resp)"
   ]
  },
  {
   "cell_type": "code",
   "execution_count": 118,
   "id": "06c1c03d-f442-43f9-b66a-5743dd5d44ba",
   "metadata": {},
   "outputs": [
    {
     "name": "stdout",
     "output_type": "stream",
     "text": [
      "{'id': 1, 'created_at': datetime.datetime(2025, 10, 2, 8, 52, 8, 810000), 'name': 'Jacqueline James', 'email': 'nan.wan@philips.com'}\n",
      "{'id': 2, 'created_at': datetime.datetime(2025, 10, 2, 8, 52, 8, 818000), 'name': 'Roy Ramos', 'email': 'lena.peterson@alibaba.com'}\n",
      "{'id': 3, 'created_at': datetime.datetime(2025, 10, 2, 8, 52, 8, 820000), 'name': 'Dennis Mason', 'email': 'ross.allen@jnj.com'}\n",
      "{'id': 4, 'created_at': datetime.datetime(2025, 10, 2, 8, 52, 8, 821000), 'name': 'Sean Olson', 'email': 'georgia.xu@lockheedmartin.com'}\n",
      "{'id': 5, 'created_at': datetime.datetime(2025, 10, 2, 8, 52, 8, 823000), 'name': 'Nicholas Wallace', 'email': 'zhou.wood@tesla.com'}\n",
      "{'id': 6, 'created_at': datetime.datetime(2025, 10, 2, 8, 52, 8, 825000), 'name': 'Russell Henry', 'email': 'sean.edwards@ibm.com'}\n",
      "{'id': 7, 'created_at': datetime.datetime(2025, 10, 2, 8, 52, 8, 827000), 'name': 'Donna Taylor', 'email': 'joyce.xiao@cisco.com'}\n",
      "{'id': 8, 'created_at': datetime.datetime(2025, 10, 2, 8, 52, 8, 828000), 'name': 'Gabriel Gibson', 'email': 'erin.shi@tesla.com'}\n",
      "{'id': 9, 'created_at': datetime.datetime(2025, 10, 2, 8, 52, 8, 830000), 'name': 'Dennis Mason', 'email': 'jun.grant@tsmc.com'}\n",
      "{'id': 10, 'created_at': datetime.datetime(2025, 10, 2, 8, 52, 8, 832000), 'name': 'Cynthia Clark', 'email': 'natalia.guo@samsungelectronics.com'}\n",
      "{'id': 11, 'created_at': datetime.datetime(2025, 10, 2, 8, 52, 8, 833000), 'name': 'Jill Simpson', 'email': 'quan.jimenez@goldmansachs.com'}\n",
      "{'id': 12, 'created_at': datetime.datetime(2025, 10, 2, 8, 52, 8, 835000), 'name': 'Dennis Tran', 'email': 'fen.deng@pwc.com'}\n",
      "{'id': 13, 'created_at': datetime.datetime(2025, 10, 2, 8, 52, 8, 837000), 'name': 'Steven Taylor', 'email': 'zan.mei@qualcomm.com'}\n",
      "{'id': 14, 'created_at': datetime.datetime(2025, 10, 2, 8, 52, 8, 839000), 'name': 'Ralph Woods', 'email': 'jia.gardner@modernatx.com'}\n",
      "{'id': 15, 'created_at': datetime.datetime(2025, 10, 2, 8, 52, 8, 841000), 'name': 'Gloria Diaz', 'email': 'hai.bao@sony.com'}\n",
      "{'id': 16, 'created_at': datetime.datetime(2025, 10, 2, 8, 52, 8, 842000), 'name': 'Audrey Palmer', 'email': 'hai.zheng@pwc.com'}\n",
      "{'id': 17, 'created_at': datetime.datetime(2025, 10, 2, 8, 52, 8, 844000), 'name': 'Ann Campbell', 'email': 'vivian.salazar@johnsoncontrols.com'}\n",
      "{'id': 18, 'created_at': datetime.datetime(2025, 10, 2, 8, 52, 8, 846000), 'name': 'Erin Porter', 'email': 'wu.wagner@stripe.com'}\n",
      "{'id': 19, 'created_at': datetime.datetime(2025, 10, 2, 8, 52, 8, 851000), 'name': 'Ralph Woods', 'email': 'rong.martin@honeywell.com'}\n",
      "{'id': 20, 'created_at': datetime.datetime(2025, 10, 2, 8, 52, 8, 853000), 'name': 'Douglas Tucker', 'email': 'george.jenkins@disney.com'}\n",
      "{'id': 21, 'created_at': datetime.datetime(2025, 10, 2, 8, 59, 53, 25000), 'name': 'string', 'email': 'user@example.com'}\n"
     ]
    }
   ],
   "source": [
    "for user in resp.json():\n",
    "    user[\"created_at\"] = datetime.datetime.fromtimestamp(user[\"created_at\"] / 1e3)\n",
    "    print(user)"
   ]
  },
  {
   "cell_type": "code",
   "execution_count": 119,
   "id": "e24be59e-11a4-4719-bd91-36c014d682eb",
   "metadata": {},
   "outputs": [
    {
     "data": {
      "text/plain": [
       "2025"
      ]
     },
     "execution_count": 119,
     "metadata": {},
     "output_type": "execute_result"
    }
   ],
   "source": [
    "user[\"created_at\"].year"
   ]
  },
  {
   "cell_type": "code",
   "execution_count": 128,
   "id": "1b704349-08b7-4d9b-b19c-439d0907f7c4",
   "metadata": {},
   "outputs": [
    {
     "data": {
      "text/plain": [
       "'user[\"created_at\"]=datetime.datetime(2025, 10, 2, 8, 59, 53, 25000), string'"
      ]
     },
     "execution_count": 128,
     "metadata": {},
     "output_type": "execute_result"
    }
   ],
   "source": [
    "f'{user[\"created_at\"]=}, {user[\"name\"]}'"
   ]
  },
  {
   "cell_type": "code",
   "execution_count": null,
   "id": "b91a8c1d-d3b3-446a-9761-38677c05051a",
   "metadata": {},
   "outputs": [],
   "source": []
  }
 ],
 "metadata": {
  "kernelspec": {
   "display_name": "Python 3 (ipykernel)",
   "language": "python",
   "name": "python3"
  },
  "language_info": {
   "codemirror_mode": {
    "name": "ipython",
    "version": 3
   },
   "file_extension": ".py",
   "mimetype": "text/x-python",
   "name": "python",
   "nbconvert_exporter": "python",
   "pygments_lexer": "ipython3",
   "version": "3.12.2"
  }
 },
 "nbformat": 4,
 "nbformat_minor": 5
}
